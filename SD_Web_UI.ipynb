{
  "nbformat": 4,
  "nbformat_minor": 0,
  "metadata": {
    "colab": {
      "provenance": [],
      "authorship_tag": "ABX9TyOu2XldAsjQJR8wSQKFtGcK",
      "include_colab_link": true
    },
    "kernelspec": {
      "name": "python3",
      "display_name": "Python 3"
    },
    "language_info": {
      "name": "python"
    },
    "accelerator": "GPU",
    "gpuClass": "standard"
  },
  "cells": [
    {
      "cell_type": "markdown",
      "metadata": {
        "id": "view-in-github",
        "colab_type": "text"
      },
      "source": [
        "<a href=\"https://colab.research.google.com/github/kawasaki-koto/Colab-WebUI/blob/main/SD_Web_UI.ipynb\" target=\"_parent\"><img src=\"https://colab.research.google.com/assets/colab-badge.svg\" alt=\"Open In Colab\"/></a>"
      ]
    },
    {
      "cell_type": "markdown",
      "source": [
        "# 起動"
      ],
      "metadata": {
        "id": "zUcoZPJkmxLS"
      }
    },
    {
      "cell_type": "code",
      "source": [
        "#Stable Diffusion-Web UIを配布元からダウンロードします。\n",
        "\n",
        "!git clone https://github.com/kawasaki-koto/tikuwabui_v2"
      ],
      "metadata": {
        "id": "nlTmM8xCiHZr"
      },
      "execution_count": null,
      "outputs": []
    },
    {
      "cell_type": "code",
      "execution_count": null,
      "metadata": {
        "id": "I2U_eCUQS-ry"
      },
      "outputs": [],
      "source": [
        "#Model，VAEデータをダウンロードします。好きなダウンロードリンクをURLで指定できます。(初期状態ではAbyssOrangeMix3とorangemix.vae)\n",
        "\n",
        "%cd /content/tikuwabui_v2/models/Stable-diffusion \n",
        "!wget https://huggingface.co/WarriorMama777/OrangeMixs/resolve/main/Models/AbyssOrangeMix3/AOM3A1B_orangemixs.safetensors -O AOM3A1B_orangemixs.safetensors\n",
        "\n",
        "%cd /content/tikuwabui_v2/models/VAE\n",
        "!wget https://huggingface.co/WarriorMama777/OrangeMixs/resolve/main/VAEs/orangemix.vae.pt -O orangemix.vae.pt"
      ]
    },
    {
      "cell_type": "code",
      "execution_count": null,
      "metadata": {
        "id": "3MdNsQc4k2G4"
      },
      "outputs": [],
      "source": [
        "#Stable Diffusion-Web UIを起動します。\n",
        "\n",
        "%cd /content/tikuwabui_v2\n",
        "!python launch.py --share --xformers --enable-insecure-extension-access"
      ]
    },
    {
      "cell_type": "markdown",
      "source": [
        "# 拡張要素\n"
      ],
      "metadata": {
        "id": "G1SatLmhkuhy"
      }
    },
    {
      "cell_type": "code",
      "source": [
        "#Textual Inversion，Loraファイルをダウンロードします。(初期状態ではEasyNegativeとyukoring768だけ)\n",
        "\n",
        "%cd /content/tikuwabui_v2/embeddings/\n",
        "!wget https://civitai.com/api/download/models/9208 -O easynegative.safetensors\n",
        "\n",
        "%mkdir -p /content/tikuwabui_v2/models/Lora/\n",
        "%cd /content/stable-diffusion-webui/models/Lora/\n",
        "!wget https://huggingface.co/closertodeath/ctdlora/resolve/main/yukoring/yukoring768.pt -O yukoring768.pt"
      ],
      "metadata": {
        "id": "HffRivlQjDNU"
      },
      "execution_count": null,
      "outputs": []
    },
    {
      "cell_type": "code",
      "execution_count": null,
      "metadata": {
        "id": "496wxsPPq91p"
      },
      "outputs": [],
      "source": [
        "#Web UIの拡張機能をダウンロードします。(初期状態では私のお気に入りが入ってます)\n",
        "\n",
        "%cd /content/tikuwabui_v2/extensions\n",
        "!git clone https://github.com/DominikDoom/a1111-sd-webui-tagcomplete "
      ]
    }
  ]
}