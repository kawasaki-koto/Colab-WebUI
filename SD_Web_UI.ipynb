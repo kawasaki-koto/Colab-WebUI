{
  "nbformat": 4,
  "nbformat_minor": 0,
  "metadata": {
    "colab": {
      "provenance": [],
      "authorship_tag": "ABX9TyNB+2ytk6zNlYfPua6Yej7Z",
      "include_colab_link": true
    },
    "kernelspec": {
      "name": "python3",
      "display_name": "Python 3"
    },
    "language_info": {
      "name": "python"
    },
    "accelerator": "GPU",
    "gpuClass": "standard"
  },
  "cells": [
    {
      "cell_type": "markdown",
      "metadata": {
        "id": "view-in-github",
        "colab_type": "text"
      },
      "source": [
        "<a href=\"https://colab.research.google.com/github/kawasaki-koto/Colab-WebUI/blob/main/SD_Web_UI.ipynb\" target=\"_parent\"><img src=\"https://colab.research.google.com/assets/colab-badge.svg\" alt=\"Open In Colab\"/></a>"
      ]
    },
    {
      "cell_type": "markdown",
      "source": [
        "# 起動"
      ],
      "metadata": {
        "id": "zUcoZPJkmxLS"
      }
    },
    {
      "cell_type": "code",
      "source": [
        "#Stable Diffusion-Web UIを配布元からダウンロードします。\n",
        "\n",
        "!git clone https://github.com/AUTOMATIC1111/stable-diffusion-webui"
      ],
      "metadata": {
        "id": "nlTmM8xCiHZr"
      },
      "execution_count": null,
      "outputs": []
    },
    {
      "cell_type": "code",
      "execution_count": null,
      "metadata": {
        "id": "I2U_eCUQS-ry"
      },
      "outputs": [],
      "source": [
        "#Model，VAEデータをダウンロードします。好きなダウンロードリンクをURLで指定できます。(初期状態ではAbyssOrangeMix3とorangemix.vae)\n",
        "\n",
        "%cd /content/stable-diffusion-webui/models/Stable-diffusion \n",
        "!wget https://huggingface.co/WarriorMama777/OrangeMixs/resolve/main/Models/AbyssOrangeMix3/AOM3A1B_orangemixs.safetensors -O AOM3A1B_orangemixs.safetensors\n",
        "\n",
        "%cd /content/stable-diffusion-webui/models/VAE\n",
        "!wget https://huggingface.co/WarriorMama777/OrangeMixs/resolve/main/VAEs/orangemix.vae.pt -O orangemix.vae.pt"
      ]
    },
    {
      "cell_type": "code",
      "execution_count": null,
      "metadata": {
        "id": "v3MY3XzJzG4i"
      },
      "outputs": [],
      "source": [
        "#CUDAによる起動失敗を防ぐためにtorch，torchvisionをアンインストールします。なんかうまくいかなかったら試すといいです。\n",
        "\n",
        "!pip uninstall torchvision -y\n",
        "!pip uninstall torch -y"
      ]
    },
    {
      "cell_type": "code",
      "execution_count": null,
      "metadata": {
        "id": "3MdNsQc4k2G4"
      },
      "outputs": [],
      "source": [
        "#Stable Diffusion-Web UIを起動します。\n",
        "\n",
        "%cd /content/stable-diffusion-webui\n",
        "!python launch.py --share --xformers --enable-insecure-extension-access"
      ]
    },
    {
      "cell_type": "markdown",
      "source": [
        "# 拡張要素\n"
      ],
      "metadata": {
        "id": "G1SatLmhkuhy"
      }
    },
    {
      "cell_type": "code",
      "source": [
        "#Google Driveをマウントして使用可能にします。\n",
        "\n",
        "from google.colab import drive\n",
        "drive.mount('/content/drive')"
      ],
      "metadata": {
        "id": "fMgLO_Pnmju7"
      },
      "execution_count": null,
      "outputs": []
    },
    {
      "cell_type": "code",
      "source": [
        "#Textual Inversion，Loraファイルをダウンロードします。(初期状態ではEasyNegativeとyukoring768だけ)\n",
        "\n",
        "%cd /content/stable-diffusion-webui/embeddings/\n",
        "!wget https://civitai.com/api/download/models/9208 -O easynegative.safetensors\n",
        "\n",
        "%mkdir -p /content/stable-diffusion-webui/models/Lora/\n",
        "%cd /content/stable-diffusion-webui/models/Lora/\n",
        "!wget https://huggingface.co/closertodeath/ctdlora/resolve/main/yukoring/yukoring768.pt -O yukoring768.pt"
      ],
      "metadata": {
        "id": "HffRivlQjDNU"
      },
      "execution_count": null,
      "outputs": []
    },
    {
      "cell_type": "code",
      "execution_count": null,
      "metadata": {
        "id": "496wxsPPq91p"
      },
      "outputs": [],
      "source": [
        "#Web UIの拡張機能をダウンロードします。(初期状態では私のお気に入りが入ってます)\n",
        "\n",
        "%cd /content/stable-diffusion-webui/extensions\n",
        "!git clone https://github.com/DominikDoom/a1111-sd-webui-tagcomplete \n",
        "!git clone https://github.com/AUTOMATIC1111/stable-diffusion-webui-wildcards\n",
        "!git clone https://github.com/Mikubill/sd-webui-controlnet\n",
        "!git clone https://github.com/fkunn1326/openpose-editor\n",
        "\n",
        "%cd /content/stable-diffusion-webui/extensions/sd-webui-controlnet/models/\n",
        "!wget https://huggingface.co/webui/ControlNet-modules-safetensors/resolve/main/control_canny-fp16.safetensors\n",
        "!wget https://huggingface.co/webui/ControlNet-modules-safetensors/resolve/main/control_depth-fp16.safetensors\n",
        "!wget https://huggingface.co/webui/ControlNet-modules-safetensors/resolve/main/control_hed-fp16.safetensors\n",
        "!wget https://huggingface.co/webui/ControlNet-modules-safetensors/resolve/main/control_mlsd-fp16.safetensors\n",
        "!wget https://huggingface.co/webui/ControlNet-modules-safetensors/resolve/main/control_normal-fp16.safetensors\n",
        "!wget https://huggingface.co/webui/ControlNet-modules-safetensors/resolve/main/control_openpose-fp16.safetensors\n",
        "!wget https://huggingface.co/webui/ControlNet-modules-safetensors/resolve/main/control_scribble-fp16.safetensors\n",
        "!wget https://huggingface.co/webui/ControlNet-modules-safetensors/resolve/main/control_seg-fp16.safetensors"
      ]
    }
  ]
}